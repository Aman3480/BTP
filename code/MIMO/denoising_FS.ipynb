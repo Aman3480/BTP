{
 "cells": [
  {
   "cell_type": "code",
   "execution_count": null,
   "metadata": {},
   "outputs": [
    {
     "name": "stdout",
     "output_type": "stream",
     "text": [
      "num GPUs 2\n",
      "Image size:  (2, 64, 64)\n",
      "----------------------------------------------------------------\n",
      "        Layer (type)               Output Shape         Param #\n",
      "================================================================\n",
      "   ReflectionPad2d-1             [-1, 64, 2, 2]               0\n",
      "            Conv2d-2             [-1, 64, 2, 2]           4,096\n",
      "          Upsample-3             [-1, 64, 4, 4]               0\n",
      "              ReLU-4             [-1, 64, 4, 4]               0\n",
      "       BatchNorm2d-5             [-1, 64, 4, 4]             128\n",
      "   ReflectionPad2d-6             [-1, 64, 4, 4]               0\n",
      "            Conv2d-7             [-1, 64, 4, 4]           4,096\n",
      "          Upsample-8             [-1, 64, 8, 8]               0\n",
      "              ReLU-9             [-1, 64, 8, 8]               0\n",
      "      BatchNorm2d-10             [-1, 64, 8, 8]             128\n",
      "  ReflectionPad2d-11             [-1, 64, 8, 8]               0\n",
      "           Conv2d-12             [-1, 64, 8, 8]           4,096\n",
      "         Upsample-13           [-1, 64, 16, 16]               0\n",
      "             ReLU-14           [-1, 64, 16, 16]               0\n",
      "      BatchNorm2d-15           [-1, 64, 16, 16]             128\n",
      "  ReflectionPad2d-16           [-1, 64, 16, 16]               0\n",
      "           Conv2d-17           [-1, 64, 16, 16]           4,096\n",
      "         Upsample-18           [-1, 64, 32, 32]               0\n",
      "             ReLU-19           [-1, 64, 32, 32]               0\n",
      "      BatchNorm2d-20           [-1, 64, 32, 32]             128\n",
      "  ReflectionPad2d-21           [-1, 64, 32, 32]               0\n",
      "           Conv2d-22           [-1, 64, 32, 32]           4,096\n",
      "         Upsample-23           [-1, 64, 64, 64]               0\n",
      "             ReLU-24           [-1, 64, 64, 64]               0\n",
      "      BatchNorm2d-25           [-1, 64, 64, 64]             128\n",
      "  ReflectionPad2d-26           [-1, 64, 64, 64]               0\n",
      "           Conv2d-27           [-1, 64, 64, 64]           4,096\n",
      "             ReLU-28           [-1, 64, 64, 64]               0\n",
      "      BatchNorm2d-29           [-1, 64, 64, 64]             128\n",
      "  ReflectionPad2d-30           [-1, 64, 64, 64]               0\n",
      "           Conv2d-31            [-1, 2, 64, 64]             128\n",
      "================================================================\n",
      "Total params: 25,472\n",
      "Trainable params: 25,472\n",
      "Non-trainable params: 0\n",
      "----------------------------------------------------------------\n",
      "Input size (MB): 0.00\n",
      "Forward/backward pass size (MB): 19.39\n",
      "Params size (MB): 0.10\n",
      "Estimated Total Size (MB): 19.48\n",
      "----------------------------------------------------------------\n",
      "> <ipython-input-3-f08a47540b46>(63)denoise()\n",
      "-> mse_n, mse_t, ni, net = fit( num_channels=num_channels,\n"
     ]
    }
   ],
   "source": [
    "from __future__ import print_function\n",
    "import matplotlib.pyplot as plt\n",
    "import scipy.io as sio\n",
    "from torchsummary import summary\n",
    "\n",
    "import os\n",
    "\n",
    "import warnings\n",
    "warnings.filterwarnings('ignore')\n",
    "\n",
    "from include import *\n",
    "from PIL import Image\n",
    "import PIL\n",
    "\n",
    "import numpy as np\n",
    "import torch\n",
    "import torch.optim\n",
    "from torch.autograd import Variable\n",
    "import pdb\n",
    "\n",
    "GPU = True\n",
    "if GPU == True:\n",
    "    torch.backends.cudnn.enabled = True\n",
    "    torch.backends.cudnn.benchmark = True\n",
    "    dtype = torch.cuda.FloatTensor\n",
    "    print(\"num GPUs\",torch.cuda.device_count())\n",
    "else:\n",
    "    dtype = torch.FloatTensor\n",
    "\n",
    "#H_org = sio.loadmat(\"H_1024x1024.mat\")\n",
    "length = 200\n",
    "H_org = sio.loadmat(\"H_64x64_fs.mat\")\n",
    "interference = sio.loadmat(\"interference.mat\")\n",
    "int_extracted = interference['interference']\n",
    "array = ['noisy_0dB', 'noisy_5dB', 'noisy_10dB', 'noisy_15dB', 'noisy_20dB']\n",
    "save_array = ['vect_noise_64.mat','vect_noise_64_2.mat','vect_noise_64_3.mat','vect_noise_64_4.mat','vect_noise_64_5.mat']\n",
    "vect_noise = np.zeros((64,64,len(save_array),length),dtype=complex)\n",
    "for k in range(length): \n",
    "    H_extracted = H_org['noiseless']\n",
    "    img_np_real = np.real(H_extracted[:,:,k])\n",
    "    img_np_imag = np.imag(H_extracted[:,:,k])\n",
    "    img_np = np.zeros((2,64,64))\n",
    "    img_np[0,:,:] = img_np_real\n",
    "    img_np[1,:,:] = img_np_imag\n",
    "    img_clean_var = np_to_var(img_np).type(dtype)\n",
    "    output_depth = img_np.shape[0] \n",
    "    print(\"Image size: \", img_np.shape)\n",
    "    i = 0\n",
    "    for noise_level in array:\n",
    "        H_extracted = H_org[noise_level]\n",
    "        img_noisy_np_real = np.real(H_extracted[:,:,0,k])#+ int_extracted[:,:,k])\n",
    "        img_noisy_np_imag = np.imag(H_extracted[:,:,0,k])# + int_extracted[:,:,k])\n",
    "        #img_noisy_np = np.zeros((2,1024,1024))\n",
    "        img_noisy_np = np.zeros((2,64,64))\n",
    "        img_noisy_np[0,:,:] = img_noisy_np_real\n",
    "        img_noisy_np[1,:,:] = img_noisy_np_imag\n",
    "        img_noisy_var = np_to_var(img_noisy_np).type(dtype)\n",
    "        def denoise(img_noisy_var,k=128,numit = 200,rn = 0.0,find_best=True,upsample_first = True):\n",
    "            num_channels = [k]*5\n",
    "            net = decodernw(output_depth,num_channels_up=num_channels,upsample_first=upsample_first).type(dtype)\n",
    "            summary(net, (64,2,2))\n",
    "            pdb.set_trace()\n",
    "            mse_n, mse_t, ni, net = fit( num_channels=num_channels,\n",
    "                                reg_noise_std=rn,\n",
    "                                num_iter=numit,\n",
    "                                img_noisy_var=img_noisy_var,\n",
    "                                net=net,\n",
    "                                img_clean_var=img_clean_var,\n",
    "                                find_best=find_best\n",
    "                                )\n",
    "            out_img_np = net( ni.type(dtype) ).data.cpu().numpy()[0]\n",
    "            return out_img_np, mse_t\n",
    "        out_img_np, mse_t = denoise(img_noisy_var,k=64,numit = 1000,rn = 0.0)\n",
    "        img_np_real = out_img_np[0,:,:]\n",
    "        img_np_imag = out_img_np[1,:,:]\n",
    "        vect_noise[:,:,i,k] = np.array(img_np_real+1j*img_np_imag,dtype=complex)\n",
    "        pdb.set_trace()\n",
    "        i = i+1\n",
    "i = 0\n",
    "for noise_level in array:       \n",
    "    sio.savemat(save_array[i], {'vect_noise':vect_noise[:,:,i,:]})\n",
    "    i = i+1"
   ]
  },
  {
   "cell_type": "code",
   "execution_count": 2,
   "metadata": {},
   "outputs": [
    {
     "data": {
      "text/plain": [
       "array([[ 0.21568452,  0.21565308,  0.21559022, ...,  0.18358149,\n",
       "         0.18351859,  0.18348712],\n",
       "       [ 0.21382837,  0.21379824,  0.21373805, ...,  0.1821015 ,\n",
       "         0.18203911,  0.1820079 ],\n",
       "       [ 0.21011598,  0.21008858,  0.2100338 , ...,  0.17914157,\n",
       "         0.17908011,  0.17904942],\n",
       "       ...,\n",
       "       [-0.356357  , -0.35631692, -0.35623682, ..., -0.54123855,\n",
       "        -0.54197526, -0.5423436 ],\n",
       "       [-0.3566841 , -0.35664394, -0.3565636 , ..., -0.5319226 ,\n",
       "        -0.5326644 , -0.5330354 ],\n",
       "       [-0.35684764, -0.3568074 , -0.35672697, ..., -0.5272646 ,\n",
       "        -0.52800906, -0.5283813 ]], dtype=float32)"
      ]
     },
     "execution_count": 2,
     "metadata": {},
     "output_type": "execute_result"
    }
   ],
   "source": [
    "out_img_np[0,:,:]"
   ]
  },
  {
   "cell_type": "code",
   "execution_count": 2,
   "metadata": {},
   "outputs": [
    {
     "data": {
      "text/plain": [
       "[<matplotlib.lines.Line2D at 0x7f31d0634e80>]"
      ]
     },
     "execution_count": 2,
     "metadata": {},
     "output_type": "execute_result"
    },
    {
     "data": {
      "image/png": "[encoded data removed]",
      "text/plain": [
       "<Figure size 432x288 with 1 Axes>"
      ]
     },
     "metadata": {
      "needs_background": "light"
     },
     "output_type": "display_data"
    }
   ],
   "source": [
    "plt.plot(range(1000),mse_t)"
   ]
  }
 ],
 "metadata": {
  "kernelspec": {
   "display_name": "Python 3",
   "language": "python",
   "name": "python3"
  },
  "language_info": {
   "codemirror_mode": {
    "name": "ipython",
    "version": 3
   },
   "file_extension": ".py",
   "mimetype": "text/x-python",
   "name": "python",
   "nbconvert_exporter": "python",
   "pygments_lexer": "ipython3",
   "version": "3.7.2"
  }
 },
 "nbformat": 4,
 "nbformat_minor": 2
}
